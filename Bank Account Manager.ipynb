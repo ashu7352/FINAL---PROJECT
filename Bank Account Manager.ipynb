{
 "cells": [
  {
   "cell_type": "markdown",
   "id": "501afce3",
   "metadata": {},
   "source": [
    "Let's start with the abstract Account class:"
   ]
  },
  {
   "cell_type": "code",
   "execution_count": 1,
   "id": "91be36c9",
   "metadata": {},
   "outputs": [],
   "source": [
    "from abc import ABC, abstractmethod\n",
    "\n",
    "class Account(ABC):\n",
    "    def __init__(self, account_number, balance):\n",
    "        self.account_number = account_number\n",
    "        self.balance = balance\n",
    "\n",
    "    @abstractmethod\n",
    "    def deposit(self, amount):\n",
    "        pass\n",
    "\n",
    "    @abstractmethod\n",
    "    def withdraw(self, amount):\n",
    "        pass\n",
    "\n",
    "    def get_balance(self):\n",
    "        return self.balance\n"
   ]
  },
  {
   "cell_type": "markdown",
   "id": "d4c4c950",
   "metadata": {},
   "source": [
    "Next, we'll implement the CheckingAccount, SavingsAccount, and BusinessAccount classes, inheriting from the Account class:"
   ]
  },
  {
   "cell_type": "code",
   "execution_count": 2,
   "id": "4cbc6771",
   "metadata": {},
   "outputs": [],
   "source": [
    "class CheckingAccount(Account):\n",
    "    def __init__(self, account_number, balance, overdraft_limit=0):\n",
    "        super().__init__(account_number, balance)\n",
    "        self.overdraft_limit = overdraft_limit\n",
    "\n",
    "    def deposit(self, amount):\n",
    "        self.balance += amount\n",
    "\n",
    "    def withdraw(self, amount):\n",
    "        if self.balance - amount >= -self.overdraft_limit:\n",
    "            self.balance -= amount\n",
    "            return True\n",
    "        else:\n",
    "            print(\"Insufficient funds!\")\n",
    "            return False\n",
    "\n",
    "class SavingsAccount(Account):\n",
    "    def __init__(self, account_number, balance):\n",
    "        super().__init__(account_number, balance)\n",
    "\n",
    "    def deposit(self, amount):\n",
    "        self.balance += amount\n",
    "\n",
    "    def withdraw(self, amount):\n",
    "        if self.balance - amount >= 0:\n",
    "            self.balance -= amount\n",
    "            return True\n",
    "        else:\n",
    "            print(\"Insufficient funds!\")\n",
    "            return False\n",
    "\n",
    "class BusinessAccount(Account):\n",
    "    def __init__(self, account_number, balance, credit_line=0):\n",
    "        super().__init__(account_number, balance)\n",
    "        self.credit_line = credit_line\n",
    "\n",
    "    def deposit(self, amount):\n",
    "        self.balance += amount\n",
    "\n",
    "    def withdraw(self, amount):\n",
    "        if self.balance - amount >= -self.credit_line:\n",
    "            self.balance -= amount\n",
    "            return True\n",
    "        else:\n",
    "            print(\"Insufficient funds!\")\n",
    "            return False\n"
   ]
  },
  {
   "cell_type": "markdown",
   "id": "c9833ce5",
   "metadata": {},
   "source": [
    "Now, let's create a simple ATM-style program to test these account classes:"
   ]
  },
  {
   "cell_type": "code",
   "execution_count": 3,
   "id": "1caa2dbe",
   "metadata": {},
   "outputs": [
    {
     "name": "stdout",
     "output_type": "stream",
     "text": [
      "Initial Balances:\n",
      "Checking Account Balance: 1000\n",
      "Savings Account Balance: 5000\n",
      "Business Account Balance: 3000\n",
      "\n",
      "Updated Balances after Transactions:\n",
      "Checking Account Balance: -200\n",
      "Savings Account Balance: 4600\n",
      "Business Account Balance: -500\n"
     ]
    }
   ],
   "source": [
    "def atm_program():\n",
    "    checking_acc = CheckingAccount(\"1234\", 1000, overdraft_limit=200)\n",
    "    savings_acc = SavingsAccount(\"5678\", 5000)\n",
    "    business_acc = BusinessAccount(\"91011\", 3000, credit_line=1000)\n",
    "\n",
    "    print(\"Initial Balances:\")\n",
    "    print(\"Checking Account Balance:\", checking_acc.get_balance())\n",
    "    print(\"Savings Account Balance:\", savings_acc.get_balance())\n",
    "    print(\"Business Account Balance:\", business_acc.get_balance())\n",
    "\n",
    "    checking_acc.withdraw(1200)  # Attempt to withdraw $1200 from Checking Account\n",
    "    savings_acc.withdraw(400)    # Withdraw $400 from Savings Account\n",
    "    business_acc.withdraw(3500)  # Attempt to withdraw $3500 from Business Account\n",
    "\n",
    "    print(\"\\nUpdated Balances after Transactions:\")\n",
    "    print(\"Checking Account Balance:\", checking_acc.get_balance())\n",
    "    print(\"Savings Account Balance:\", savings_acc.get_balance())\n",
    "    print(\"Business Account Balance:\", business_acc.get_balance())\n",
    "\n",
    "if __name__ == \"__main__\":\n",
    "    atm_program()\n"
   ]
  },
  {
   "cell_type": "code",
   "execution_count": null,
   "id": "3362e6ef",
   "metadata": {},
   "outputs": [],
   "source": []
  }
 ],
 "metadata": {
  "kernelspec": {
   "display_name": "Python 3 (ipykernel)",
   "language": "python",
   "name": "python3"
  },
  "language_info": {
   "codemirror_mode": {
    "name": "ipython",
    "version": 3
   },
   "file_extension": ".py",
   "mimetype": "text/x-python",
   "name": "python",
   "nbconvert_exporter": "python",
   "pygments_lexer": "ipython3",
   "version": "3.10.9"
  }
 },
 "nbformat": 4,
 "nbformat_minor": 5
}
